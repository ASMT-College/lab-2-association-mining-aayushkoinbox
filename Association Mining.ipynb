{
 "cells": [
  {
   "cell_type": "code",
   "execution_count": 1,
   "id": "90ebe448-585b-4749-b8ad-c78e035906ff",
   "metadata": {},
   "outputs": [
    {
     "name": "stdout",
     "output_type": "stream",
     "text": [
      "Requirement already satisfied: mlxtend in c:\\users\\pc\\anaconda3\\lib\\site-packages (0.23.4)\n",
      "Requirement already satisfied: scipy>=1.2.1 in c:\\users\\pc\\anaconda3\\lib\\site-packages (from mlxtend) (1.13.1)\n",
      "Requirement already satisfied: numpy>=1.16.2 in c:\\users\\pc\\anaconda3\\lib\\site-packages (from mlxtend) (1.26.4)\n",
      "Requirement already satisfied: pandas>=0.24.2 in c:\\users\\pc\\anaconda3\\lib\\site-packages (from mlxtend) (2.2.2)\n",
      "Requirement already satisfied: scikit-learn>=1.3.1 in c:\\users\\pc\\anaconda3\\lib\\site-packages (from mlxtend) (1.5.1)\n",
      "Requirement already satisfied: matplotlib>=3.0.0 in c:\\users\\pc\\anaconda3\\lib\\site-packages (from mlxtend) (3.9.2)\n",
      "Requirement already satisfied: joblib>=0.13.2 in c:\\users\\pc\\anaconda3\\lib\\site-packages (from mlxtend) (1.4.2)\n",
      "Requirement already satisfied: contourpy>=1.0.1 in c:\\users\\pc\\anaconda3\\lib\\site-packages (from matplotlib>=3.0.0->mlxtend) (1.2.0)\n",
      "Requirement already satisfied: cycler>=0.10 in c:\\users\\pc\\anaconda3\\lib\\site-packages (from matplotlib>=3.0.0->mlxtend) (0.11.0)\n",
      "Requirement already satisfied: fonttools>=4.22.0 in c:\\users\\pc\\anaconda3\\lib\\site-packages (from matplotlib>=3.0.0->mlxtend) (4.51.0)\n",
      "Requirement already satisfied: kiwisolver>=1.3.1 in c:\\users\\pc\\anaconda3\\lib\\site-packages (from matplotlib>=3.0.0->mlxtend) (1.4.4)\n",
      "Requirement already satisfied: packaging>=20.0 in c:\\users\\pc\\anaconda3\\lib\\site-packages (from matplotlib>=3.0.0->mlxtend) (24.1)\n",
      "Requirement already satisfied: pillow>=8 in c:\\users\\pc\\anaconda3\\lib\\site-packages (from matplotlib>=3.0.0->mlxtend) (10.4.0)\n",
      "Requirement already satisfied: pyparsing>=2.3.1 in c:\\users\\pc\\anaconda3\\lib\\site-packages (from matplotlib>=3.0.0->mlxtend) (3.1.2)\n",
      "Requirement already satisfied: python-dateutil>=2.7 in c:\\users\\pc\\anaconda3\\lib\\site-packages (from matplotlib>=3.0.0->mlxtend) (2.9.0.post0)\n",
      "Requirement already satisfied: pytz>=2020.1 in c:\\users\\pc\\anaconda3\\lib\\site-packages (from pandas>=0.24.2->mlxtend) (2024.1)\n",
      "Requirement already satisfied: tzdata>=2022.7 in c:\\users\\pc\\anaconda3\\lib\\site-packages (from pandas>=0.24.2->mlxtend) (2023.3)\n",
      "Requirement already satisfied: threadpoolctl>=3.1.0 in c:\\users\\pc\\anaconda3\\lib\\site-packages (from scikit-learn>=1.3.1->mlxtend) (3.5.0)\n",
      "Requirement already satisfied: six>=1.5 in c:\\users\\pc\\anaconda3\\lib\\site-packages (from python-dateutil>=2.7->matplotlib>=3.0.0->mlxtend) (1.16.0)\n"
     ]
    }
   ],
   "source": [
    "!pip install mlxtend"
   ]
  },
  {
   "cell_type": "code",
   "execution_count": 8,
   "id": "00b5a089-cfa3-45d9-a7fd-adc5d9c8eed1",
   "metadata": {},
   "outputs": [],
   "source": [
    "import pandas as pd\n",
    "from mlxtend.frequent_patterns import apriori, association_rules"
   ]
  },
  {
   "cell_type": "code",
   "execution_count": 9,
   "id": "510ec023-a3c2-4d45-9ca6-04198f8c1256",
   "metadata": {},
   "outputs": [],
   "source": [
    "# Step 1: Load the dataset\n",
    "data ={\n",
    "    'TransactionID': [1,2,3,4,5],\n",
    "    \"Items\": [\n",
    "    [\"nails\", \"fevicol\"],\n",
    "        [\"nails\",\"paint\",\"thinner\", \"lock\"],\n",
    "        [\"paint\",\"fevicol\",\"thinner\",\"screw\"],\n",
    "        [\"nails\", \"fevicol\", \"paint\", \"thinner\"],\n",
    "        [\"nails\", \"fevicol\",\"paint\", \"screw\"]\n",
    "        \n",
    "    ]\n",
    "}\n"
   ]
  },
  {
   "cell_type": "code",
   "execution_count": 10,
   "id": "687350fe-d40e-4c6a-abc6-87f727b7e2ac",
   "metadata": {},
   "outputs": [
    {
     "name": "stdout",
     "output_type": "stream",
     "text": [
      "inital data:\n",
      "    TransactionID                             Items\n",
      "0              1                  [nails, fevicol]\n",
      "1              2     [nails, paint, thinner, lock]\n",
      "2              3  [paint, fevicol, thinner, screw]\n",
      "3              4  [nails, fevicol, paint, thinner]\n",
      "4              5    [nails, fevicol, paint, screw]\n"
     ]
    }
   ],
   "source": [
    "df = pd.DataFrame(data)\n",
    "print(\"inital data:\\n\",df)"
   ]
  },
  {
   "cell_type": "code",
   "execution_count": 11,
   "id": "01f52e1b-9751-4d92-87a7-e69ad96a0e3b",
   "metadata": {},
   "outputs": [
    {
     "name": "stdout",
     "output_type": "stream",
     "text": [
      "\n",
      "One-Hot Encoded Data:\n",
      "    nails  fevicol  paint  thinner  lock  screw\n",
      "0    1.0      1.0    0.0      0.0   0.0    0.0\n",
      "1    1.0      0.0    1.0      1.0   1.0    0.0\n",
      "2    0.0      1.0    1.0      1.0   0.0    1.0\n",
      "3    1.0      1.0    1.0      1.0   0.0    0.0\n",
      "4    1.0      1.0    1.0      0.0   0.0    1.0\n"
     ]
    }
   ],
   "source": [
    "# Step 2: Convert dataset into a format suitable for the Apriori algorithm# Convert\n",
    "#the list of items into one-hot encoded format\n",
    "df_items = df['Items'].apply(lambda x: pd.Series(1, index=x)).fillna(0)\n",
    "print(\"\\nOne-Hot Encoded Data:\\n\", df_items)"
   ]
  },
  {
   "cell_type": "code",
   "execution_count": 14,
   "id": "4cbc394b-bb85-4146-84bb-f8a952fb996e",
   "metadata": {},
   "outputs": [
    {
     "name": "stdout",
     "output_type": "stream",
     "text": [
      "\n",
      " Frequent itemsets:\n",
      "    support          itemsets\n",
      "0      0.8           (nails)\n",
      "1      0.8         (fevicol)\n",
      "2      0.8           (paint)\n",
      "3      0.6         (thinner)\n",
      "4      0.6  (fevicol, nails)\n",
      "5      0.6    (nails, paint)\n",
      "6      0.6  (fevicol, paint)\n",
      "7      0.6  (paint, thinner)\n"
     ]
    }
   ],
   "source": [
    "# Step 3: Apply the Apriori algorithm to find frequent itemsets# Use a minimum support threshold of 0.6 (at least 60% of transactions)\n",
    "df_items = df_items.astype(bool)\n",
    "frequent_itemsets = apriori (df_items, min_support=0.6, use_colnames=True)\n",
    "print (\"\\n Frequent itemsets:\\n\",frequent_itemsets)"
   ]
  },
  {
   "cell_type": "code",
   "execution_count": 15,
   "id": "e3fd8d52-7301-4997-ac4a-ab1eba6c7b55",
   "metadata": {},
   "outputs": [
    {
     "name": "stdout",
     "output_type": "stream",
     "text": [
      "\n",
      "Here, association Rules:\n",
      "   antecedents consequents  antecedent support  consequent support  support  \\\n",
      "0   (fevicol)     (nails)                 0.8                 0.8      0.6   \n",
      "1     (nails)   (fevicol)                 0.8                 0.8      0.6   \n",
      "2     (nails)     (paint)                 0.8                 0.8      0.6   \n",
      "3     (paint)     (nails)                 0.8                 0.8      0.6   \n",
      "4   (fevicol)     (paint)                 0.8                 0.8      0.6   \n",
      "5     (paint)   (fevicol)                 0.8                 0.8      0.6   \n",
      "6     (paint)   (thinner)                 0.8                 0.6      0.6   \n",
      "7   (thinner)     (paint)                 0.6                 0.8      0.6   \n",
      "\n",
      "   confidence    lift  representativity  leverage  conviction  zhangs_metric  \\\n",
      "0        0.75  0.9375               1.0     -0.04         0.8          -0.25   \n",
      "1        0.75  0.9375               1.0     -0.04         0.8          -0.25   \n",
      "2        0.75  0.9375               1.0     -0.04         0.8          -0.25   \n",
      "3        0.75  0.9375               1.0     -0.04         0.8          -0.25   \n",
      "4        0.75  0.9375               1.0     -0.04         0.8          -0.25   \n",
      "5        0.75  0.9375               1.0     -0.04         0.8          -0.25   \n",
      "6        0.75  1.2500               1.0      0.12         1.6           1.00   \n",
      "7        1.00  1.2500               1.0      0.12         inf           0.50   \n",
      "\n",
      "   jaccard  certainty  kulczynski  \n",
      "0     0.60     -0.250       0.750  \n",
      "1     0.60     -0.250       0.750  \n",
      "2     0.60     -0.250       0.750  \n",
      "3     0.60     -0.250       0.750  \n",
      "4     0.60     -0.250       0.750  \n",
      "5     0.60     -0.250       0.750  \n",
      "6     0.75      0.375       0.875  \n",
      "7     0.75      1.000       0.875  \n"
     ]
    }
   ],
   "source": [
    "# Step 4: Generate association rules from the frequent itemsets# Use a minimum confidence threshold of 0.7 (at least 70% confidence)\n",
    "rules = association_rules(frequent_itemsets, metric=\"confidence\", min_threshold=0.7)\n",
    "print(\"\\nHere, association Rules:\\n\", rules)# Step 5: Interpret the results# Display the rules in a simple format\n",
    "for _, row in rules.iterrows():\n",
    "print(f\"\\nRule: {set(row['antecedents'])} -> {set(row['consequents'])}\")\n",
    "print(f\"Support: {row['support']:.2f}\")\n",
    "print(f\"Confidence: {row['confidence']:.2f}\")\n",
    "print(f\"Lift: {row['lift']:.2f}\")"
   ]
  },
  {
   "cell_type": "code",
   "execution_count": 18,
   "id": "e69dbcc6-9fd4-4c80-ab5c-28daae5e0262",
   "metadata": {},
   "outputs": [
    {
     "name": "stdout",
     "output_type": "stream",
     "text": [
      "\n",
      "Rule: {'fevicol'} -> {'nails'}\n",
      "Support: 0.60\n",
      "Confidence: 0.75\n",
      "Lift: 0.94\n",
      "\n",
      "Rule: {'nails'} -> {'fevicol'}\n",
      "Support: 0.60\n",
      "Confidence: 0.75\n",
      "Lift: 0.94\n",
      "\n",
      "Rule: {'nails'} -> {'paint'}\n",
      "Support: 0.60\n",
      "Confidence: 0.75\n",
      "Lift: 0.94\n",
      "\n",
      "Rule: {'paint'} -> {'nails'}\n",
      "Support: 0.60\n",
      "Confidence: 0.75\n",
      "Lift: 0.94\n",
      "\n",
      "Rule: {'fevicol'} -> {'paint'}\n",
      "Support: 0.60\n",
      "Confidence: 0.75\n",
      "Lift: 0.94\n",
      "\n",
      "Rule: {'paint'} -> {'fevicol'}\n",
      "Support: 0.60\n",
      "Confidence: 0.75\n",
      "Lift: 0.94\n",
      "\n",
      "Rule: {'paint'} -> {'thinner'}\n",
      "Support: 0.60\n",
      "Confidence: 0.75\n",
      "Lift: 1.25\n",
      "\n",
      "Rule: {'thinner'} -> {'paint'}\n",
      "Support: 0.60\n",
      "Confidence: 1.00\n",
      "Lift: 1.25\n"
     ]
    }
   ],
   "source": [
    "# Step 5: Interpret the results# Display the rules in a simple format\n",
    "for _, row in rules.iterrows():\n",
    "    print(f\"\\nRule: {set(row['antecedents'])} -> {set(row['consequents'])}\")\n",
    "    print(f\"Support: {row['support']:.2f}\")\n",
    "    print(f\"Confidence: {row['confidence']:.2f}\")\n",
    "    print(f\"Lift: {row['lift']:.2f}\")"
   ]
  },
  {
   "cell_type": "code",
   "execution_count": 1,
   "id": "c33144f6-542f-4cde-964b-ddbd64b5153a",
   "metadata": {},
   "outputs": [
    {
     "ename": "SyntaxError",
     "evalue": "invalid syntax (2568000746.py, line 1)",
     "output_type": "error",
     "traceback": [
      "\u001b[1;36m  Cell \u001b[1;32mIn[1], line 1\u001b[1;36m\u001b[0m\n\u001b[1;33m    Rule: {'fevicol'} -> {'nails'}\u001b[0m\n\u001b[1;37m                      ^\u001b[0m\n\u001b[1;31mSyntaxError\u001b[0m\u001b[1;31m:\u001b[0m invalid syntax\n"
     ]
    }
   ],
   "source": [
    "Rule: {'fevicol'} -> {'nails'}"
   ]
  },
  {
   "cell_type": "code",
   "execution_count": null,
   "id": "d13e72a1-e79c-4afa-9ec4-cfee7342d598",
   "metadata": {},
   "outputs": [],
   "source": []
  }
 ],
 "metadata": {
  "kernelspec": {
   "display_name": "Python 3 (ipykernel)",
   "language": "python",
   "name": "python3"
  },
  "language_info": {
   "codemirror_mode": {
    "name": "ipython",
    "version": 3
   },
   "file_extension": ".py",
   "mimetype": "text/x-python",
   "name": "python",
   "nbconvert_exporter": "python",
   "pygments_lexer": "ipython3",
   "version": "3.12.7"
  }
 },
 "nbformat": 4,
 "nbformat_minor": 5
}
